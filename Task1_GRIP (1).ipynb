{
  "nbformat": 4,
  "nbformat_minor": 0,
  "metadata": {
    "colab": {
      "name": "Task1_GRIP.ipynb",
      "provenance": [],
      "collapsed_sections": []
    },
    "kernelspec": {
      "name": "python3",
      "display_name": "Python 3"
    },
    "language_info": {
      "name": "python"
    }
  },
  "cells": [
    {
      "cell_type": "code",
      "metadata": {
        "id": "ePsOBfSUHkSe"
      },
      "source": [
        ""
      ],
      "execution_count": null,
      "outputs": []
    },
    {
      "cell_type": "markdown",
      "metadata": {
        "id": "8C32EQj6I3jj"
      },
      "source": [
        "# **NAME : YOGESHWARI A**\n",
        "## **TASK 1**: Implementing a simple linear regression"
      ]
    },
    {
      "cell_type": "markdown",
      "metadata": {
        "id": "DVz1cBD2J3Oe"
      },
      "source": [
        "## **Problem Statement**\n",
        "### Predict the percentage of an student based on the no.of study hours"
      ]
    },
    {
      "cell_type": "markdown",
      "metadata": {
        "id": "AlWU_C8QKZPx"
      },
      "source": [
        "## **Feature Description**\n",
        "1. **Hours**: The number of hours student studied in a day. This is the independent/explanatory variable.\n",
        "2.**Scores**: Percentage of marks obtained by students corresponding to number of hours. This is the dependent/target variable"
      ]
    },
    {
      "cell_type": "markdown",
      "metadata": {
        "id": "SuxppvsxLxra"
      },
      "source": [
        "## **Preprocessing steps**\n",
        "\n",
        "\n",
        "\n",
        "**1. Import  necessary libraries**"
      ]
    },
    {
      "cell_type": "code",
      "metadata": {
        "id": "D2HiIoGPPM5I"
      },
      "source": [
        "\n",
        "import pandas as pd\n",
        "import numpy as np  \n",
        "import matplotlib.pyplot as plt  \n",
        "import seaborn as sns\n",
        "import warnings\n",
        "warnings.filterwarnings(\"ignore\")"
      ],
      "execution_count": null,
      "outputs": []
    },
    {
      "cell_type": "markdown",
      "metadata": {
        "id": "cciWuUklQLs3"
      },
      "source": [
        "**2.Import the Dataset**"
      ]
    },
    {
      "cell_type": "code",
      "metadata": {
        "colab": {
          "base_uri": "https://localhost:8080/",
          "height": 374
        },
        "id": "Bn3-PGfGQTfl",
        "outputId": "a20d6dad-3fe1-4934-f486-f95de8a42401"
      },
      "source": [
        "url = \"http://bit.ly/w-data\"\n",
        "data = pd.read_csv(url)\n",
        "print(\"Data imported successfully\")\n",
        "data.shape\n",
        "data.head(10)"
      ],
      "execution_count": null,
      "outputs": [
        {
          "output_type": "stream",
          "name": "stdout",
          "text": [
            "Data imported successfully\n"
          ]
        },
        {
          "output_type": "execute_result",
          "data": {
            "text/html": [
              "<div>\n",
              "<style scoped>\n",
              "    .dataframe tbody tr th:only-of-type {\n",
              "        vertical-align: middle;\n",
              "    }\n",
              "\n",
              "    .dataframe tbody tr th {\n",
              "        vertical-align: top;\n",
              "    }\n",
              "\n",
              "    .dataframe thead th {\n",
              "        text-align: right;\n",
              "    }\n",
              "</style>\n",
              "<table border=\"1\" class=\"dataframe\">\n",
              "  <thead>\n",
              "    <tr style=\"text-align: right;\">\n",
              "      <th></th>\n",
              "      <th>Hours</th>\n",
              "      <th>Scores</th>\n",
              "    </tr>\n",
              "  </thead>\n",
              "  <tbody>\n",
              "    <tr>\n",
              "      <th>0</th>\n",
              "      <td>2.5</td>\n",
              "      <td>21</td>\n",
              "    </tr>\n",
              "    <tr>\n",
              "      <th>1</th>\n",
              "      <td>5.1</td>\n",
              "      <td>47</td>\n",
              "    </tr>\n",
              "    <tr>\n",
              "      <th>2</th>\n",
              "      <td>3.2</td>\n",
              "      <td>27</td>\n",
              "    </tr>\n",
              "    <tr>\n",
              "      <th>3</th>\n",
              "      <td>8.5</td>\n",
              "      <td>75</td>\n",
              "    </tr>\n",
              "    <tr>\n",
              "      <th>4</th>\n",
              "      <td>3.5</td>\n",
              "      <td>30</td>\n",
              "    </tr>\n",
              "    <tr>\n",
              "      <th>5</th>\n",
              "      <td>1.5</td>\n",
              "      <td>20</td>\n",
              "    </tr>\n",
              "    <tr>\n",
              "      <th>6</th>\n",
              "      <td>9.2</td>\n",
              "      <td>88</td>\n",
              "    </tr>\n",
              "    <tr>\n",
              "      <th>7</th>\n",
              "      <td>5.5</td>\n",
              "      <td>60</td>\n",
              "    </tr>\n",
              "    <tr>\n",
              "      <th>8</th>\n",
              "      <td>8.3</td>\n",
              "      <td>81</td>\n",
              "    </tr>\n",
              "    <tr>\n",
              "      <th>9</th>\n",
              "      <td>2.7</td>\n",
              "      <td>25</td>\n",
              "    </tr>\n",
              "  </tbody>\n",
              "</table>\n",
              "</div>"
            ],
            "text/plain": [
              "   Hours  Scores\n",
              "0    2.5      21\n",
              "1    5.1      47\n",
              "2    3.2      27\n",
              "3    8.5      75\n",
              "4    3.5      30\n",
              "5    1.5      20\n",
              "6    9.2      88\n",
              "7    5.5      60\n",
              "8    8.3      81\n",
              "9    2.7      25"
            ]
          },
          "metadata": {},
          "execution_count": 2
        }
      ]
    },
    {
      "cell_type": "markdown",
      "metadata": {
        "id": "MejjyDojTKEB"
      },
      "source": [
        "### **3. Visualize th dataset**"
      ]
    },
    {
      "cell_type": "code",
      "metadata": {
        "colab": {
          "base_uri": "https://localhost:8080/",
          "height": 295
        },
        "id": "1zKZiBFGUZuZ",
        "outputId": "0d5caf13-4850-4939-d19b-c39a045a41a2"
      },
      "source": [
        "#Plot a scatterplot between hors and score\n",
        "plt.scatter(data['Hours'],data['Scores'])\n",
        "\n",
        "#Name the scatterplot\n",
        "plt.title(\"Visualising the dataset\")\n",
        "\n",
        "#Nmae the x axis label\n",
        "plt.xlabel('Hours')\n",
        "\n",
        "#Name the y axis label\n",
        "plt.ylabel(\"Marks scored\")\n",
        "\n",
        "#Show the scatterplot\n",
        "plt.show()"
      ],
      "execution_count": null,
      "outputs": [
        {
          "output_type": "display_data",
          "data": {
            "image/png": "[encoded data removed]",
            "text/plain": [
              "<Figure size 432x288 with 1 Axes>"
            ]
          },
          "metadata": {
            "needs_background": "light"
          }
        }
      ]
    },
    {
      "cell_type": "markdown",
      "metadata": {
        "id": "NFHANQEVG1AK"
      },
      "source": [
        "From the scatterplot it is clear that Hours and Marks scored are positively correlated . As the number of study hours increases the marks scored also increases ."
      ]
    },
    {
      "cell_type": "markdown",
      "metadata": {
        "id": "8hVWrCGnG2tk"
      },
      "source": [
        "### **4.Check for any missing values** "
      ]
    },
    {
      "cell_type": "code",
      "metadata": {
        "colab": {
          "base_uri": "https://localhost:8080/"
        },
        "id": "J1fLmLw6HPhE",
        "outputId": "d8f74fda-346e-4ad6-a891-226f941d06c2"
      },
      "source": [
        "data.isna().sum()"
      ],
      "execution_count": null,
      "outputs": [
        {
          "output_type": "execute_result",
          "data": {
            "text/plain": [
              "Hours     0\n",
              "Scores    0\n",
              "dtype: int64"
            ]
          },
          "metadata": {},
          "execution_count": 4
        }
      ]
    },
    {
      "cell_type": "markdown",
      "metadata": {
        "id": "NoX0iNKoHUOG"
      },
      "source": [
        "## **Building linear regression model**"
      ]
    },
    {
      "cell_type": "markdown",
      "metadata": {
        "id": "yVOCZHLjHaWu"
      },
      "source": [
        "### **1. Specify the independent and dependent variables**"
      ]
    },
    {
      "cell_type": "code",
      "metadata": {
        "colab": {
          "base_uri": "https://localhost:8080/",
          "height": 203
        },
        "id": "JKQoTgfoHiZ6",
        "outputId": "75aef588-717b-4b70-82db-61b920d86049"
      },
      "source": [
        "#Drop the target variable column and store the rest as explanatory variable\n",
        "X_data = data.drop(\"Scores\",axis=1)\n",
        "\n",
        "#Store the target variable \n",
        "Y_data = data[\"Scores\"]\n",
        "\n",
        "#Explanatory_variable description\n",
        "X_data.head()"
      ],
      "execution_count": null,
      "outputs": [
        {
          "output_type": "execute_result",
          "data": {
            "text/html": [
              "<div>\n",
              "<style scoped>\n",
              "    .dataframe tbody tr th:only-of-type {\n",
              "        vertical-align: middle;\n",
              "    }\n",
              "\n",
              "    .dataframe tbody tr th {\n",
              "        vertical-align: top;\n",
              "    }\n",
              "\n",
              "    .dataframe thead th {\n",
              "        text-align: right;\n",
              "    }\n",
              "</style>\n",
              "<table border=\"1\" class=\"dataframe\">\n",
              "  <thead>\n",
              "    <tr style=\"text-align: right;\">\n",
              "      <th></th>\n",
              "      <th>Hours</th>\n",
              "    </tr>\n",
              "  </thead>\n",
              "  <tbody>\n",
              "    <tr>\n",
              "      <th>0</th>\n",
              "      <td>2.5</td>\n",
              "    </tr>\n",
              "    <tr>\n",
              "      <th>1</th>\n",
              "      <td>5.1</td>\n",
              "    </tr>\n",
              "    <tr>\n",
              "      <th>2</th>\n",
              "      <td>3.2</td>\n",
              "    </tr>\n",
              "    <tr>\n",
              "      <th>3</th>\n",
              "      <td>8.5</td>\n",
              "    </tr>\n",
              "    <tr>\n",
              "      <th>4</th>\n",
              "      <td>3.5</td>\n",
              "    </tr>\n",
              "  </tbody>\n",
              "</table>\n",
              "</div>"
            ],
            "text/plain": [
              "   Hours\n",
              "0    2.5\n",
              "1    5.1\n",
              "2    3.2\n",
              "3    8.5\n",
              "4    3.5"
            ]
          },
          "metadata": {},
          "execution_count": 5
        }
      ]
    },
    {
      "cell_type": "code",
      "metadata": {
        "colab": {
          "base_uri": "https://localhost:8080/"
        },
        "id": "hUSyxYv-Hoc8",
        "outputId": "60be3da8-a0c7-49c1-d200-c21349039e45"
      },
      "source": [
        "#Target variable description\n",
        "Y_data.head()"
      ],
      "execution_count": null,
      "outputs": [
        {
          "output_type": "execute_result",
          "data": {
            "text/plain": [
              "0    21\n",
              "1    47\n",
              "2    27\n",
              "3    75\n",
              "4    30\n",
              "Name: Scores, dtype: int64"
            ]
          },
          "metadata": {},
          "execution_count": 6
        }
      ]
    },
    {
      "cell_type": "markdown",
      "metadata": {
        "id": "pyuZjP4kHuaF"
      },
      "source": [
        "### **2. Split the dataset into train set and test set**"
      ]
    },
    {
      "cell_type": "code",
      "metadata": {
        "id": "4u91z-aPHzB0"
      },
      "source": [
        "#import train_test_split from sci-kit learn library\n",
        "from sklearn.model_selection import train_test_split\n",
        "\n",
        "#Split the data into training set and testing set in the ration 0.7:0.3\n",
        "X_train,X_test,y_train,y_test = train_test_split(X_data,Y_data,test_size = 0.3,random_state = 0)"
      ],
      "execution_count": null,
      "outputs": []
    },
    {
      "cell_type": "code",
      "metadata": {
        "id": "T-LSL4Q0Ds04"
      },
      "source": [
        ""
      ],
      "execution_count": null,
      "outputs": []
    },
    {
      "cell_type": "markdown",
      "metadata": {
        "id": "vY4j9-ouH7qU"
      },
      "source": [
        "### **3. Linear Regression Model**"
      ]
    },
    {
      "cell_type": "code",
      "metadata": {
        "id": "Yn6BxbwPH3GR"
      },
      "source": [
        "#Import LinearReression model from sci-kit learn\n",
        "from sklearn.linear_model import LinearRegression\n",
        "\n",
        "#Instantiate a regressor\n",
        "regressor = LinearRegression()\n",
        "\n",
        "#Fit the model to training data set\n",
        "reg_fit = regressor.fit(X_train,y_train)"
      ],
      "execution_count": null,
      "outputs": []
    },
    {
      "cell_type": "markdown",
      "metadata": {
        "id": "4SjibF-uIJYF"
      },
      "source": [
        "### **4.Visualize data for trainset and testset**"
      ]
    },
    {
      "cell_type": "code",
      "metadata": {
        "colab": {
          "base_uri": "https://localhost:8080/",
          "height": 295
        },
        "id": "xU4Ksd5GIPj5",
        "outputId": "9a84ea52-25c9-448e-c7a8-ded1e1626227"
      },
      "source": [
        "#Visualize for trainset\n",
        "plt.scatter(X_train, y_train)\n",
        "plt.plot(X_train, regressor.predict(X_train),color = \"green\")\n",
        "plt.title('Visualizing Training set')\n",
        "plt.xlabel('Hours')\n",
        "plt.ylabel('Score')\n",
        "plt.show()"
      ],
      "execution_count": null,
      "outputs": [
        {
          "output_type": "display_data",
          "data": {
            "image/png": "[encoded data removed]",
            "text/plain": [
              "<Figure size 432x288 with 1 Axes>"
            ]
          },
          "metadata": {
            "needs_background": "light"
          }
        }
      ]
    },
    {
      "cell_type": "code",
      "metadata": {
        "colab": {
          "base_uri": "https://localhost:8080/",
          "height": 295
        },
        "id": "bWQCHzZNIQYZ",
        "outputId": "5473f6f8-8b52-427a-b9ff-cbef3ae4ef75"
      },
      "source": [
        "#Visualize Test set\n",
        "plt.scatter(X_test, y_test)\n",
        "plt.plot(X_train, regressor.predict(X_train),color = \"green\")\n",
        "plt.title('Visualize Test set')\n",
        "plt.xlabel('Hours ')\n",
        "plt.ylabel('Score')\n",
        "plt.show()"
      ],
      "execution_count": null,
      "outputs": [
        {
          "output_type": "display_data",
          "data": {
            "image/png": "[encoded data removed]",
            "text/plain": [
              "<Figure size 432x288 with 1 Axes>"
            ]
          },
          "metadata": {
            "needs_background": "light"
          }
        }
      ]
    },
    {
      "cell_type": "markdown",
      "metadata": {
        "id": "trWzV-JeIWn4"
      },
      "source": [
        "### **5.Prediction for test set**"
      ]
    },
    {
      "cell_type": "code",
      "metadata": {
        "colab": {
          "base_uri": "https://localhost:8080/",
          "height": 295
        },
        "id": "8ZHSQa-MIdej",
        "outputId": "0937c5b1-b554-4073-c0df-5ee004467c2e"
      },
      "source": [
        "#Predict the test set\n",
        "pred_test = reg_fit.predict(X_test)\n",
        "\n",
        "# Comparing Actual vs Predicted\n",
        "df = pd.DataFrame({'Actual': y_test, 'Predicted': pred_test})  \n",
        "df"
      ],
      "execution_count": null,
      "outputs": [
        {
          "output_type": "execute_result",
          "data": {
            "text/html": [
              "<div>\n",
              "<style scoped>\n",
              "    .dataframe tbody tr th:only-of-type {\n",
              "        vertical-align: middle;\n",
              "    }\n",
              "\n",
              "    .dataframe tbody tr th {\n",
              "        vertical-align: top;\n",
              "    }\n",
              "\n",
              "    .dataframe thead th {\n",
              "        text-align: right;\n",
              "    }\n",
              "</style>\n",
              "<table border=\"1\" class=\"dataframe\">\n",
              "  <thead>\n",
              "    <tr style=\"text-align: right;\">\n",
              "      <th></th>\n",
              "      <th>Actual</th>\n",
              "      <th>Predicted</th>\n",
              "    </tr>\n",
              "  </thead>\n",
              "  <tbody>\n",
              "    <tr>\n",
              "      <th>5</th>\n",
              "      <td>20</td>\n",
              "      <td>17.053665</td>\n",
              "    </tr>\n",
              "    <tr>\n",
              "      <th>2</th>\n",
              "      <td>27</td>\n",
              "      <td>33.694229</td>\n",
              "    </tr>\n",
              "    <tr>\n",
              "      <th>19</th>\n",
              "      <td>69</td>\n",
              "      <td>74.806209</td>\n",
              "    </tr>\n",
              "    <tr>\n",
              "      <th>16</th>\n",
              "      <td>30</td>\n",
              "      <td>26.842232</td>\n",
              "    </tr>\n",
              "    <tr>\n",
              "      <th>11</th>\n",
              "      <td>62</td>\n",
              "      <td>60.123359</td>\n",
              "    </tr>\n",
              "    <tr>\n",
              "      <th>22</th>\n",
              "      <td>35</td>\n",
              "      <td>39.567369</td>\n",
              "    </tr>\n",
              "    <tr>\n",
              "      <th>17</th>\n",
              "      <td>24</td>\n",
              "      <td>20.969092</td>\n",
              "    </tr>\n",
              "    <tr>\n",
              "      <th>24</th>\n",
              "      <td>86</td>\n",
              "      <td>78.721636</td>\n",
              "    </tr>\n",
              "  </tbody>\n",
              "</table>\n",
              "</div>"
            ],
            "text/plain": [
              "    Actual  Predicted\n",
              "5       20  17.053665\n",
              "2       27  33.694229\n",
              "19      69  74.806209\n",
              "16      30  26.842232\n",
              "11      62  60.123359\n",
              "22      35  39.567369\n",
              "17      24  20.969092\n",
              "24      86  78.721636"
            ]
          },
          "metadata": {},
          "execution_count": 11
        }
      ]
    },
    {
      "cell_type": "markdown",
      "metadata": {
        "id": "S_dNQdTcIi8R"
      },
      "source": [
        "### **6.Evaluating the model**"
      ]
    },
    {
      "cell_type": "code",
      "metadata": {
        "colab": {
          "base_uri": "https://localhost:8080/"
        },
        "id": "QTSMsUygIlUn",
        "outputId": "1b6b843d-0598-44b1-ee0c-cab7dbea4677"
      },
      "source": [
        "# Checking r2_score\n",
        "\n",
        "r2_score=reg_fit.score(X_train,y_train)\n",
        "print(\"The R-Squared value: \",round(r2_score,3))"
      ],
      "execution_count": null,
      "outputs": [
        {
          "output_type": "stream",
          "name": "stdout",
          "text": [
            "The R-Squared value:  0.948\n"
          ]
        }
      ]
    },
    {
      "cell_type": "markdown",
      "metadata": {
        "id": "KlcLHsJxTFlL"
      },
      "source": [
        "The r-squared value is 0.948 or 94.8%. This indicates that the target variable is able to explain 94 % of the variance due to independent variable\n"
      ]
    },
    {
      "cell_type": "markdown",
      "metadata": {
        "id": "oSO3jf42Isoq"
      },
      "source": [
        "### **7.Predicting the score if a student studies for 9.25 hrs/ day?**"
      ]
    },
    {
      "cell_type": "code",
      "metadata": {
        "id": "X3dGWBFnIydk",
        "colab": {
          "base_uri": "https://localhost:8080/"
        },
        "outputId": "db5f89e6-ee0f-495e-a507-aebafd068d6a"
      },
      "source": [
        "hours_day=9.25\n",
        "hours_day=np.array(hours_day).reshape(1, -1)\n",
        "print(\"The predicted score if a student studies\",hours_day[0][0],\"hours in a day is:\",round(reg_fit.predict(hours_day)[0],2))"
      ],
      "execution_count": null,
      "outputs": [
        {
          "output_type": "stream",
          "name": "stdout",
          "text": [
            "The predicted score if a student studies 9.25 hours in a day is: 92.92\n"
          ]
        }
      ]
    }
  ]
}